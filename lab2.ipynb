{
 "cells": [
  {
   "cell_type": "markdown",
   "metadata": {},
   "source": [
    "# Lab 2"
   ]
  },
  {
   "cell_type": "markdown",
   "metadata": {},
   "source": [
    "## Imports"
   ]
  },
  {
   "cell_type": "markdown",
   "metadata": {},
   "source": [
    "### Documentation Stage 1\n",
    "\n",
    "For this lab, there is an assortment of necessary libraries: \n",
    "- itertools for generating dice combinations.\n",
    "- numpy for efficient calculations and array manipulation assistance.\n",
    "- pandas for data manipulation.\n"
   ]
  },
  {
   "cell_type": "code",
   "execution_count": 8,
   "metadata": {},
   "outputs": [],
   "source": [
    "import itertools\n",
    "import pandas as pd\n",
    "import numpy as np"
   ]
  },
  {
   "cell_type": "markdown",
   "metadata": {},
   "source": [
    "## Function A"
   ]
  },
  {
   "cell_type": "markdown",
   "metadata": {},
   "source": [
    "### Documentation Stage 2\n",
    "\n",
    "We need a function to calculate the probability of getting a sum greater than x when rolling m dice with n sides.\n",
    "The reason that this function is necessary is so that players are able to gauge their option and find out the true risk to an action.\n",
    "\n",
    "The function is defined as below, using the 3 arguments 'n', 'm', and 'x' to deliniate the dice side amount, the number of dice, and the target sum respectively."
   ]
  },
  {
   "cell_type": "code",
   "execution_count": 9,
   "metadata": {},
   "outputs": [],
   "source": [
    "def m_dice_n_sides_prob_sum_x(n: int, m: int, x: int) -> float:\n",
    "    \"\"\"\n",
    "    Calculate the probability of getting a sum greater than x when rolling m dice with n sides.\n",
    "    n: number of sides of the dice. Int from 1 to 20.\n",
    "    m: number of dice. Int from 1 to 4.\n",
    "    x: target sum.\n",
    "    \"\"\"\n",
    "    if n < 1 or n > 20 or m < 1 or m > 4:\n",
    "        # These are the limits of the problem. If we go beyond these, we must throw an error.\n",
    "        raise ValueError(\"n must be an integer from 1 to 20 and m must be an integer from 1 to 4.\")\n",
    "    # List out all possible rolls. It will basically be a list of tuples where each tuple is a roll.\n",
    "    # For example, for m = 2 and n = 6, the list will be [(1, 1), (1, 2), ..., (6, 6)]\n",
    "    rolls = list(itertools.product(range(1, n + 1), repeat=m))\n",
    "    # Find the sum of all possible rolls. This will be a list of sums of each roll.\n",
    "    # In the example above, it will be [2, 3, ..., 12]\n",
    "    sums = np.array([sum(roll) for roll in rolls])\n",
    "    # Find the proportion of those sums that are greater than the target x\n",
    "    prob = np.mean(sums > x)\n",
    "    return float(prob)"
   ]
  },
  {
   "cell_type": "code",
   "execution_count": 10,
   "metadata": {},
   "outputs": [
    {
     "data": {
      "text/plain": [
       "0.375"
      ]
     },
     "execution_count": 10,
     "metadata": {},
     "output_type": "execute_result"
    }
   ],
   "source": [
    "m_dice_n_sides_prob_sum_x(6, 3, 11)"
   ]
  },
  {
   "cell_type": "markdown",
   "metadata": {},
   "source": [
    "## Function B"
   ]
  },
  {
   "cell_type": "markdown",
   "metadata": {},
   "source": [
    "### Documentation Stage 3\n",
    "\n",
    "Another necessary function is that of having at least 1 dice be larger than a required value. This sort of task is extremely hard to think through mentally, allowing the power of software computing to shine. This is useful in the art of Dungeon and Dragons, since there are many instances in which the game master may use probability of rolling a die to determine the outcome of player actions, such as avoiding traps, making critical hits, or succeeding in skill checks.\n",
    "\n",
    "The function is defined as below, using the 3 arguments 'n', 'm', and 'x' to deliniate the dice side amount, the number of dice, and the target value for a single dice to hit respectively."
   ]
  },
  {
   "cell_type": "code",
   "execution_count": 11,
   "metadata": {},
   "outputs": [],
   "source": [
    "def prob_at_least_one_greater_equal_x(n: int, m: int, x: int) -> float:\n",
    "    \"\"\"\n",
    "    Determine the probability of rolling m dice, each with n sides, and having at least one die\n",
    "    show a value greater than or equal to x.\n",
    "    n: number of sides of the dice.\n",
    "    m: number of dice.\n",
    "    x: target value.\n",
    "    \"\"\"\n",
    "    # List of all possible dice rolls\n",
    "    rolls = list(itertools.product(range(1, n + 1), repeat=m))\n",
    "    # Calculate how many rolls have at least one die >= x\n",
    "    success_rolls = [roll for roll in rolls if any(r >= x for r in roll)]\n",
    "    # Probability calculation\n",
    "    return len(success_rolls) / len(rolls)"
   ]
  },
  {
   "cell_type": "code",
   "execution_count": 12,
   "metadata": {},
   "outputs": [
    {
     "data": {
      "text/plain": [
       "0.5555555555555556"
      ]
     },
     "execution_count": 12,
     "metadata": {},
     "output_type": "execute_result"
    }
   ],
   "source": [
    "# Probability the player will roll at least one 5 or 6 when rolling 2d6\n",
    "prob_at_least_one_greater_equal_x(6, 2, 5)"
   ]
  },
  {
   "cell_type": "markdown",
   "metadata": {},
   "source": [
    "## WALKTHROUGH\n",
    "\n",
    "A player is in a challenging situation where they have a choice. They can choose a single challenge from the following pool of challenges:\n",
    "\n",
    "- getting a sum of 17 or more with 1d20\n",
    "- getting a sum of 10 or more with 3d4\n",
    "- getting at least one dice roll of 6 with 4d6\n",
    "\n",
    "Which one is the best for the player? That is the question we will be answering below."
   ]
  },
  {
   "cell_type": "code",
   "execution_count": 13,
   "metadata": {},
   "outputs": [
    {
     "name": "stdout",
     "output_type": "stream",
     "text": [
      "Probability of getting a sum of 17 or more with 1d20: 0.2000\n",
      "Probability of getting a sum of 10 with 3d4: 0.1562\n",
      "Probability of getting at least one dice roll of 6 with 4d6: 0.5177\n"
     ]
    }
   ],
   "source": [
    "# 1d20 and get a result of 17 or more\n",
    "# The function is called with 16 because the function calculates the probability of getting a sum greater than x\n",
    "challenge_1 = m_dice_n_sides_prob_sum_x(20, 1, 16)\n",
    "# 3d4 and get a result of 10 or more\n",
    "# The function is called with 9 because the function calculates the probability of getting a sum greater than x\n",
    "challenge_2 = m_dice_n_sides_prob_sum_x(4, 3, 9)\n",
    "# 4d6 and have at least one die show a 6\n",
    "challenge_3 = prob_at_least_one_greater_equal_x(6, 4, 6)\n",
    "\n",
    "# Output the results with 4 decimal places\n",
    "print(f\"Probability of getting a sum of 17 or more with 1d20: {challenge_1:.4f}\")\n",
    "print(f\"Probability of getting a sum of 10 with 3d4: {challenge_2:.4f}\")\n",
    "print(f\"Probability of getting at least one dice roll of 6 with 4d6: {challenge_3:.4f}\")"
   ]
  },
  {
   "cell_type": "markdown",
   "metadata": {},
   "source": [
    "### Walkthrough Conclusion\n",
    "\n",
    "From the probabilities, it seems that challenge 3 *(getting at least one dice to roll a 6 from an assortment of 4 d6's)* is **by far** the best choice. It is to the point that you could try the other options **many times over** and they still would not be a better choice than challenge 3. With a **~52%** probability of success, I am willing to take my chances.\n",
    "\n",
    "The second pick for challenges would be challenge 1. Although it is still really low with a **20%** probability of success, I would take it any day over challenge 2.\n",
    "\n",
    "Challenge 2 is a b-line to death row. **~15%** chance of success? Only the most adventurous of people would be willing to take this challenge over the other 2."
   ]
  }
 ],
 "metadata": {
  "kernelspec": {
   "display_name": "stat",
   "language": "python",
   "name": "python3"
  },
  "language_info": {
   "codemirror_mode": {
    "name": "ipython",
    "version": 3
   },
   "file_extension": ".py",
   "mimetype": "text/x-python",
   "name": "python",
   "nbconvert_exporter": "python",
   "pygments_lexer": "ipython3",
   "version": "3.12.6"
  }
 },
 "nbformat": 4,
 "nbformat_minor": 2
}
