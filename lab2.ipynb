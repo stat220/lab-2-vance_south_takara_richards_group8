{
 "cells": [
  {
   "cell_type": "markdown",
   "metadata": {},
   "source": [
    "# Lab 2"
   ]
  },
  {
   "cell_type": "markdown",
   "metadata": {},
   "source": [
    "## Imports"
   ]
  },
  {
   "cell_type": "code",
   "execution_count": 6,
   "metadata": {},
   "outputs": [],
   "source": [
    "import itertools\n",
    "import pandas as pd\n",
    "import numpy as np"
   ]
  },
  {
   "cell_type": "markdown",
   "metadata": {},
   "source": [
    "## Function A"
   ]
  },
  {
   "cell_type": "code",
   "execution_count": 7,
   "metadata": {},
   "outputs": [],
   "source": [
    "def m_dice_n_sides_prob_sum_x(n: int, m: int, x: int) -> float:\n",
    "    \"\"\"\n",
    "    Calculate the probability of getting a sum greater than x when rolling m dice with n sides.\n",
    "    n: number of sides of the dice. Int from 1 to 20.\n",
    "    m: number of dice. Int from 1 to 4.\n",
    "    x: target sum\n",
    "    \"\"\"\n",
    "    if n < 1 or n > 20 or m < 1 or m > 4:\n",
    "        # These are the limits of the problem. If we go beyond these, we must throw an error.\n",
    "        raise ValueError(\"n must be an integer from 1 to 20 and m must be an integer from 1 to 4.\")\n",
    "    # List out all possible rolls. It will basically be a list of tuples where each tuple is a roll.\n",
    "    # For example, for m = 2 and n = 6, the list will be [(1, 1), (1, 2), ..., (6, 6)]\n",
    "    rolls = list(itertools.product(range(1, n + 1), repeat=m))\n",
    "    # Find the sum of all possible rolls. This will be a list of sums of each roll.\n",
    "    # In the example above, it will be [2, 3, ..., 12]\n",
    "    sums = np.array([sum(roll) for roll in rolls])\n",
    "    # Find the proportion of those sums that are greater than the target x\n",
    "    prob = np.mean(sums > x)\n",
    "    return float(prob)"
   ]
  },
  {
   "cell_type": "code",
   "execution_count": 8,
   "metadata": {},
   "outputs": [
    {
     "data": {
      "text/plain": [
       "0.375"
      ]
     },
     "execution_count": 8,
     "metadata": {},
     "output_type": "execute_result"
    }
   ],
   "source": [
    "m_dice_n_sides_prob_sum_x(6, 3, 11)"
   ]
  },
  {
   "cell_type": "markdown",
   "metadata": {},
   "source": [
    "## Function B"
   ]
  },
  {
   "cell_type": "code",
   "execution_count": 9,
   "metadata": {},
   "outputs": [],
   "source": [
    "def prob_at_least_one_greater_equal_x(n: int, m: int, x: int) -> float:\n",
    "    \"\"\"\n",
    "    Determine the probability of rolling m dice, each with n sides, and having at least one die\n",
    "    show a value greater than or equal to x.\n",
    "    \"\"\"\n",
    "    # List of all possible dice rolls\n",
    "    rolls = list(itertools.product(range(1, n + 1), repeat=m))\n",
    "    # Calculate how many rolls have at least one die >= x\n",
    "    success_rolls = [roll for roll in rolls if any(r >= x for r in roll)]\n",
    "    # Probability calculation\n",
    "    return len(success_rolls) / len(rolls)"
   ]
  },
  {
   "cell_type": "code",
   "execution_count": 10,
   "metadata": {},
   "outputs": [
    {
     "data": {
      "text/plain": [
       "0.5555555555555556"
      ]
     },
     "execution_count": 10,
     "metadata": {},
     "output_type": "execute_result"
    }
   ],
   "source": [
    "# Probability the player will roll at least one 5 or 6 when rolling 2d6\n",
    "prob_at_least_one_greater_equal_x(6, 2, 5)"
   ]
  }
 ],
 "metadata": {
  "kernelspec": {
   "display_name": "stat",
   "language": "python",
   "name": "python3"
  },
  "language_info": {
   "codemirror_mode": {
    "name": "ipython",
    "version": 3
   },
   "file_extension": ".py",
   "mimetype": "text/x-python",
   "name": "python",
   "nbconvert_exporter": "python",
   "pygments_lexer": "ipython3",
   "version": "3.11.4"
  }
 },
 "nbformat": 4,
 "nbformat_minor": 2
}
